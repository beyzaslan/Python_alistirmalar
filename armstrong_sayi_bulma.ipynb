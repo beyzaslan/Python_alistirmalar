{
 "cells": [
  {
   "attachments": {},
   "cell_type": "markdown",
   "metadata": {},
   "source": [
    "Armstrong sayısı, rakamlarının küplerinin toplamına eşit olan sayıdır. \n",
    "\n",
    "Örnek olarak 153 sayısını ele alalım.\n",
    "\n",
    "153 = (1x1x1) + (5x5x5) + (3x3x3)\n",
    "\n",
    "(1x1x1) = 1\n",
    "(5x5x5) = 125\n",
    "(3x3x3) = 27 \n",
    "\n",
    "Sonuç : \n",
    "1 + 125 + 27 = 153 \n",
    "Yani 153 Armstrong sayıdır."
   ]
  },
  {
   "cell_type": "code",
   "execution_count": 7,
   "metadata": {},
   "outputs": [
    {
     "name": "stdout",
     "output_type": "stream",
     "text": [
      "153 sayısı armstrong sayıdır.\n"
     ]
    }
   ],
   "source": [
    "n = int(input(\"Bir sayı giriniz: \"))\n",
    "\n",
    "kontrol=n\n",
    "toplam=0\n",
    "\n",
    "while n>0:\n",
    "    basamak = n%10\n",
    "    toplam+=(basamak**3)\n",
    "    n = int(n/10) #tam bölme gerçekleştirilir. Sayının \",\" den sonraki kısmı gelmez.\n",
    "\n",
    "if toplam == kontrol:\n",
    "    print(f\"{kontrol} sayısı armstrong sayıdır.\")\n",
    "else:\n",
    "    print(f\"{kontrol} sayısı armstrong sayı değildir.\")\n",
    "\n",
    "\n",
    "\n",
    "\n"
   ]
  }
 ],
 "metadata": {
  "kernelspec": {
   "display_name": "Python 3",
   "language": "python",
   "name": "python3"
  },
  "language_info": {
   "codemirror_mode": {
    "name": "ipython",
    "version": 3
   },
   "file_extension": ".py",
   "mimetype": "text/x-python",
   "name": "python",
   "nbconvert_exporter": "python",
   "pygments_lexer": "ipython3",
   "version": "3.10.7"
  },
  "orig_nbformat": 4,
  "vscode": {
   "interpreter": {
    "hash": "1d8047cf9a3fb5d39b90451c85057b3ab99e4664a0128e29f03111a30f920c3d"
   }
  }
 },
 "nbformat": 4,
 "nbformat_minor": 2
}
