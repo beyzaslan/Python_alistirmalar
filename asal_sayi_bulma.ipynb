{
 "cells": [
  {
   "attachments": {},
   "cell_type": "markdown",
   "metadata": {},
   "source": [
    "Girilen sayının asal olup olmadığını bulduran program"
   ]
  },
  {
   "cell_type": "code",
   "execution_count": 4,
   "metadata": {},
   "outputs": [
    {
     "name": "stdout",
     "output_type": "stream",
     "text": [
      "10 asal sayı değildir.\n"
     ]
    }
   ],
   "source": [
    "# 1.çözüm yolu\n",
    "n = int(input(\"Bir sayı giriniz: \"))\n",
    "\n",
    "p=0\n",
    "i=2\n",
    "\n",
    "while i<n:\n",
    "    if n%i==0:\n",
    "        p=1\n",
    "    break #döngüden çık\n",
    "i=i+1\n",
    "\n",
    "if p==0:\n",
    "    print(f\"{n} asal sayıdır\")\n",
    "else:\n",
    "    print(f\"{n} asal sayı değildir.\")"
   ]
  },
  {
   "cell_type": "code",
   "execution_count": 9,
   "metadata": {},
   "outputs": [
    {
     "name": "stdout",
     "output_type": "stream",
     "text": [
      "10 asal değildir\n"
     ]
    }
   ],
   "source": [
    "#2.çözüm yolu\n",
    "\n",
    "n=int(input(\"Bir sayi giriniz: \"))\n",
    "p=0\n",
    "for i in range (2,n):\n",
    "    if n%i==0:\n",
    "        p=1\n",
    "        break\n",
    "if p==0:\n",
    "    print(f\"{n} asaldır\")\n",
    "else: \n",
    "    print(f\"{n} asal değildir\")\n",
    "\n"
   ]
  }
 ],
 "metadata": {
  "kernelspec": {
   "display_name": "Python 3",
   "language": "python",
   "name": "python3"
  },
  "language_info": {
   "codemirror_mode": {
    "name": "ipython",
    "version": 3
   },
   "file_extension": ".py",
   "mimetype": "text/x-python",
   "name": "python",
   "nbconvert_exporter": "python",
   "pygments_lexer": "ipython3",
   "version": "3.10.7"
  },
  "orig_nbformat": 4,
  "vscode": {
   "interpreter": {
    "hash": "1d8047cf9a3fb5d39b90451c85057b3ab99e4664a0128e29f03111a30f920c3d"
   }
  }
 },
 "nbformat": 4,
 "nbformat_minor": 2
}
