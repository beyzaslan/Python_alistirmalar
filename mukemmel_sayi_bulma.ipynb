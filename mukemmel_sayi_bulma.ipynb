{
 "cells": [
  {
   "attachments": {},
   "cell_type": "markdown",
   "metadata": {},
   "source": [
    "Mükemmel sayı, kendisi hariç pozitif bölenlerinin toplamına eşit olan sayılardır. Bir örnekle açıklayacak olursak, 6 sayısının pozitif bölenleri 1,2 ve 3’tür. Bu pozitif bölenlerin toplamı 6’dır. Sonuç olarak 6 mükemmel sayıdır.\n",
    "\n",
    "**Soru: Girilen sayının mükemmel sayı olup olmadığını bulan program kodu**"
   ]
  },
  {
   "cell_type": "code",
   "execution_count": 9,
   "metadata": {},
   "outputs": [
    {
     "name": "stdout",
     "output_type": "stream",
     "text": [
      "6 mükemmel sayıdır.\n"
     ]
    }
   ],
   "source": [
    "n = int(input(\"Bir sayı giriniz: \"))\n",
    "toplam=0\n",
    "for i in range(1,n):\n",
    "    if n%i==0:\n",
    "        toplam+=i\n",
    "\n",
    "if toplam==n:\n",
    "    print(f\"{n} mükemmel sayıdır.\")\n",
    "else:\n",
    "    print(f\"{toplam} mükemmel sayı değildir.\")\n"
   ]
  }
 ],
 "metadata": {
  "kernelspec": {
   "display_name": "Python 3",
   "language": "python",
   "name": "python3"
  },
  "language_info": {
   "codemirror_mode": {
    "name": "ipython",
    "version": 3
   },
   "file_extension": ".py",
   "mimetype": "text/x-python",
   "name": "python",
   "nbconvert_exporter": "python",
   "pygments_lexer": "ipython3",
   "version": "3.10.7"
  },
  "orig_nbformat": 4,
  "vscode": {
   "interpreter": {
    "hash": "1d8047cf9a3fb5d39b90451c85057b3ab99e4664a0128e29f03111a30f920c3d"
   }
  }
 },
 "nbformat": 4,
 "nbformat_minor": 2
}
